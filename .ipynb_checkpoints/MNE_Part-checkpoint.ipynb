{
 "cells": [
  {
   "cell_type": "code",
   "execution_count": 5,
   "id": "initial_id",
   "metadata": {
    "ExecuteTime": {
     "end_time": "2025-10-17T12:26:48.080103Z",
     "start_time": "2025-10-17T12:26:48.029119Z"
    },
    "execution": {
     "iopub.execute_input": "2025-10-17T14:17:51.946627Z",
     "iopub.status.busy": "2025-10-17T14:17:51.946365Z",
     "iopub.status.idle": "2025-10-17T14:17:51.949726Z",
     "shell.execute_reply": "2025-10-17T14:17:51.948944Z",
     "shell.execute_reply.started": "2025-10-17T14:17:51.946605Z"
    }
   },
   "outputs": [],
   "source": [
    "import numpy as np\n",
    "import mne\n",
    "from scipy.io import loadmat"
   ]
  },
  {
   "cell_type": "code",
   "execution_count": 6,
   "id": "5294b405-24ec-4eab-a8a3-ad0f22c52c3f",
   "metadata": {
    "execution": {
     "iopub.execute_input": "2025-10-17T14:17:53.958819Z",
     "iopub.status.busy": "2025-10-17T14:17:53.958555Z",
     "iopub.status.idle": "2025-10-17T14:17:55.377561Z",
     "shell.execute_reply": "2025-10-17T14:17:55.376758Z",
     "shell.execute_reply.started": "2025-10-17T14:17:53.958798Z"
    }
   },
   "outputs": [],
   "source": [
    "mat_data = loadmat(\"sub-0cGdk9_HoldL_MedOff_run1_LFP_Hilbert/sub_AbzsOg_HoldL_MedOff_merged_LFP_Hilbert.mat\")"
   ]
  },
  {
   "cell_type": "code",
   "execution_count": 7,
   "id": "4218e0d4-0db7-4da3-9a9c-8903c4739304",
   "metadata": {
    "execution": {
     "iopub.execute_input": "2025-10-17T14:21:00.538612Z",
     "iopub.status.busy": "2025-10-17T14:21:00.538317Z",
     "iopub.status.idle": "2025-10-17T14:21:00.541603Z",
     "shell.execute_reply": "2025-10-17T14:21:00.541155Z",
     "shell.execute_reply.started": "2025-10-17T14:21:00.538583Z"
    }
   },
   "outputs": [
    {
     "name": "stdout",
     "output_type": "stream",
     "text": [
      "Keys found: dict_keys(['__header__', '__version__', '__globals__', 'mvolt_reref_signal_all', 'selected_channels_signal', 'target_labels'])\n"
     ]
    }
   ],
   "source": [
    "print(f\"Keys found:\", mat_data.keys())"
   ]
  }
 ],
 "metadata": {
  "kernelspec": {
   "display_name": "Python 3 (ipykernel)",
   "language": "python",
   "name": "python3"
  },
  "language_info": {
   "codemirror_mode": {
    "name": "ipython",
    "version": 3
   },
   "file_extension": ".py",
   "mimetype": "text/x-python",
   "name": "python",
   "nbconvert_exporter": "python",
   "pygments_lexer": "ipython3",
   "version": "3.12.2"
  }
 },
 "nbformat": 4,
 "nbformat_minor": 5
}
